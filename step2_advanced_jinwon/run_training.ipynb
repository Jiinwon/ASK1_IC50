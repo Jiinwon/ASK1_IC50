{
 "cells": [
  {
   "cell_type": "markdown",
   "metadata": {},
   "source": [
    "# Train Advanced IC50 Model\n",
    "This notebook installs the required dependencies and runs the training script."
   ]
  },
  {
   "cell_type": "code",
   "execution_count": null,
   "metadata": {},
   "outputs": [],
   "source": [
    "# Install dependencies\n",
    "!pip install rdkit-pypi -q\n",
    "!pip install -r requirements.txt -q"
   ]
  },
  {
   "cell_type": "code",
   "execution_count": 4,
   "metadata": {},
   "outputs": [
    {
     "name": "stdout",
     "output_type": "stream",
     "text": [
      "/home1/won0316/anaconda3/envs/toxcast_env/lib/python3.12/site-packages/xgboost/core.py:158: UserWarning: [09:55:54] WARNING: /workspace/src/learner.cc:740: \n",
      "Parameters: { \"verbose\" } are not used.\n",
      "\n",
      "  warnings.warn(smsg, UserWarning)\n",
      "[0]\tvalidation_0-rmse:1.87710\n",
      "[1]\tvalidation_0-rmse:1.85868\n",
      "[2]\tvalidation_0-rmse:1.84203\n",
      "[3]\tvalidation_0-rmse:1.82970\n",
      "[4]\tvalidation_0-rmse:1.81575\n",
      "[5]\tvalidation_0-rmse:1.80020\n",
      "[6]\tvalidation_0-rmse:1.78866\n",
      "[7]\tvalidation_0-rmse:1.77818\n",
      "[8]\tvalidation_0-rmse:1.76982\n",
      "[9]\tvalidation_0-rmse:1.76113\n",
      "[10]\tvalidation_0-rmse:1.75330\n",
      "[11]\tvalidation_0-rmse:1.74443\n",
      "[12]\tvalidation_0-rmse:1.73802\n",
      "[13]\tvalidation_0-rmse:1.72950\n",
      "[14]\tvalidation_0-rmse:1.72352\n",
      "[15]\tvalidation_0-rmse:1.72086\n",
      "[16]\tvalidation_0-rmse:1.71530\n",
      "[17]\tvalidation_0-rmse:1.71120\n",
      "[18]\tvalidation_0-rmse:1.70713\n",
      "[19]\tvalidation_0-rmse:1.70064\n",
      "[20]\tvalidation_0-rmse:1.69677\n",
      "[21]\tvalidation_0-rmse:1.69303\n",
      "[22]\tvalidation_0-rmse:1.69327\n",
      "[23]\tvalidation_0-rmse:1.69090\n",
      "[24]\tvalidation_0-rmse:1.68898\n",
      "[25]\tvalidation_0-rmse:1.68683\n",
      "[26]\tvalidation_0-rmse:1.68482\n",
      "[27]\tvalidation_0-rmse:1.68475\n",
      "[28]\tvalidation_0-rmse:1.68476\n",
      "[29]\tvalidation_0-rmse:1.68305\n",
      "[30]\tvalidation_0-rmse:1.67876\n",
      "[31]\tvalidation_0-rmse:1.67937\n",
      "[32]\tvalidation_0-rmse:1.67765\n",
      "[33]\tvalidation_0-rmse:1.67714\n",
      "[34]\tvalidation_0-rmse:1.67556\n",
      "[35]\tvalidation_0-rmse:1.67331\n",
      "[36]\tvalidation_0-rmse:1.67335\n",
      "[37]\tvalidation_0-rmse:1.67577\n",
      "[38]\tvalidation_0-rmse:1.67630\n",
      "[39]\tvalidation_0-rmse:1.67685\n",
      "[40]\tvalidation_0-rmse:1.67676\n",
      "[41]\tvalidation_0-rmse:1.67656\n",
      "[42]\tvalidation_0-rmse:1.67815\n",
      "[43]\tvalidation_0-rmse:1.67725\n",
      "[44]\tvalidation_0-rmse:1.67697\n",
      "[45]\tvalidation_0-rmse:1.67850\n",
      "[46]\tvalidation_0-rmse:1.67689\n",
      "[47]\tvalidation_0-rmse:1.67702\n",
      "[48]\tvalidation_0-rmse:1.67726\n",
      "[49]\tvalidation_0-rmse:1.67403\n",
      "[50]\tvalidation_0-rmse:1.67443\n",
      "[51]\tvalidation_0-rmse:1.67533\n",
      "[52]\tvalidation_0-rmse:1.67497\n",
      "[53]\tvalidation_0-rmse:1.67646\n",
      "[54]\tvalidation_0-rmse:1.67668\n",
      "Validation R² score: 0.1697\n",
      "mech: 100%|█████████████████████████████████| 127/127 [00:00<00:00, 2813.26it/s]\n",
      "mech: 100%|██████████████████████████████████| 127/127 [00:00<00:00, 609.91it/s]\n",
      "mech: 100%|█████████████████████████████████| 127/127 [00:00<00:00, 4231.25it/s]\n",
      "mech: 100%|█████████████████████████████████| 127/127 [00:00<00:00, 4372.69it/s]\n",
      "mech: 100%|█████████████████████████████████| 127/127 [00:00<00:00, 4349.23it/s]\n",
      "docking: 100%|████████████████████████████| 127/127 [00:00<00:00, 606693.18it/s]\n",
      "Test predictions saved to submissions/advanced_jinwon_submission.csv\n",
      "Final RMSE: 0.1697\n"
     ]
    }
   ],
   "source": [
    "# Run the training pipeline\n",
    "!python ./src/train/train_regression.py"
   ]
  }
 ],
 "metadata": {
  "kernelspec": {
   "display_name": "toxcast_env",
   "language": "python",
   "name": "python3"
  },
  "language_info": {
   "codemirror_mode": {
    "name": "ipython",
    "version": 3
   },
   "file_extension": ".py",
   "mimetype": "text/x-python",
   "name": "python",
   "nbconvert_exporter": "python",
   "pygments_lexer": "ipython3",
   "version": "3.12.4"
  }
 },
 "nbformat": 4,
 "nbformat_minor": 2
}
